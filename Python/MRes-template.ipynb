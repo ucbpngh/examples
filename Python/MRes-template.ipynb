{
 "cells": [
  {
   "cell_type": "code",
   "execution_count": 1,
   "metadata": {
    "collapsed": false
   },
   "outputs": [
    {
     "name": "stdout",
     "output_type": "stream",
     "text": [
      "Populating the interactive namespace from numpy and matplotlib\n"
     ]
    }
   ],
   "source": [
    "import scipy.io\n",
    "import numpy\n",
    "import code\n",
    "import os\n",
    "import itertools\n",
    "\n",
    "%pylab inline\n",
    "%load_ext autoreload\n",
    "%autoreload 2\n",
    "\n",
    "from IPython.display import Image"
   ]
  },
  {
   "cell_type": "markdown",
   "metadata": {},
   "source": [
    "This is a Markdown cell - double-click it to edit.\n",
    "\n",
    "##Headings\n",
    "\n",
    "###Smaller headings\n",
    "\n",
    "Useful commands:\n",
    "Esc then a: open new cell above current cell\n",
    "Esc then b: open new cell below current cell\n",
    "Shift-Enter: run cell\n",
    "\n",
    "Check the Help menu for more useful shortcuts."
   ]
  },
  {
   "cell_type": "code",
   "execution_count": 3,
   "metadata": {
    "collapsed": false
   },
   "outputs": [
    {
     "data": {
      "text/plain": [
       "0"
      ]
     },
     "execution_count": 3,
     "metadata": {},
     "output_type": "execute_result"
    }
   ],
   "source": [
    "plot([sin(x) for x in arange(0,10,0.01)])\n"
   ]
  },
  {
   "cell_type": "code",
   "execution_count": 1,
   "metadata": {
    "collapsed": true
   },
   "outputs": [],
   "source": [
    "f='/Users/fintan/Dropbox/CogShift/projects/VideoLoad/image-experiment/static/data/pascal_voc/2007_000063.jpg'"
   ]
  },
  {
   "cell_type": "code",
   "execution_count": 4,
   "metadata": {
    "collapsed": true
   },
   "outputs": [],
   "source": [
    "im = scipy.misc.imread(f)"
   ]
  },
  {
   "cell_type": "code",
   "execution_count": 5,
   "metadata": {
    "collapsed": false
   },
   "outputs": [
    {
     "name": "stderr",
     "output_type": "stream",
     "text": [
      "/Users/fintan/anaconda/lib/python2.7/site-packages/IPython/core/formatters.py:369: FormatterWarning: image/png formatter returned invalid type <type 'numpy.ndarray'> (expected (<type 'str'>, <type 'unicode'>)) for object: <IPython.core.display.Image object>\n",
      "  FormatterWarning\n"
     ]
    },
    {
     "data": {
      "text/plain": [
       "<IPython.core.display.Image object>"
      ]
     },
     "execution_count": 5,
     "metadata": {},
     "output_type": "execute_result"
    }
   ],
   "source": [
    "Image(im)"
   ]
  },
  {
   "cell_type": "code",
   "execution_count": 2,
   "metadata": {
    "collapsed": false
   },
   "outputs": [
    {
     "data": {
      "text/plain": [
       "0"
      ]
     },
     "execution_count": 2,
     "metadata": {},
     "output_type": "execute_result"
    }
   ],
   "source": [
    "Image(f)"
   ]
  },
  {
   "cell_type": "code",
   "execution_count": 9,
   "metadata": {
    "collapsed": false
   },
   "outputs": [
    {
     "data": {
      "text/plain": [
       "array([[[208, 220, 210],\n",
       "        [206, 218, 208],\n",
       "        [203, 215, 205],\n",
       "        ..., \n",
       "        [ 84,  54,  88],\n",
       "        [ 65,  41,  67],\n",
       "        [184, 164, 175]],\n",
       "\n",
       "       [[210, 222, 210],\n",
       "        [209, 221, 209],\n",
       "        [208, 220, 210],\n",
       "        ..., \n",
       "        [ 91,  70,  67],\n",
       "        [ 97,  77,  76],\n",
       "        [190, 175, 172]],\n",
       "\n",
       "       [[209, 221, 209],\n",
       "        [211, 223, 211],\n",
       "        [211, 221, 210],\n",
       "        ..., \n",
       "        [133, 115,  79],\n",
       "        [136, 121,  92],\n",
       "        [202, 190, 176]],\n",
       "\n",
       "       ..., \n",
       "       [[156,  97,  89],\n",
       "        [153,  95,  84],\n",
       "        [144,  87,  78],\n",
       "        ..., \n",
       "        [ 47,  32,  53],\n",
       "        [ 64,  53,  69],\n",
       "        [240, 232, 243]],\n",
       "\n",
       "       [[155,  96,  88],\n",
       "        [154,  96,  85],\n",
       "        [146,  92,  82],\n",
       "        ..., \n",
       "        [ 52,  37,  58],\n",
       "        [ 66,  55,  71],\n",
       "        [238, 230, 241]],\n",
       "\n",
       "       [[154,  95,  87],\n",
       "        [155,  99,  86],\n",
       "        [147,  93,  81],\n",
       "        ..., \n",
       "        [ 65,  50,  71],\n",
       "        [ 76,  65,  82],\n",
       "        [245, 237, 248]]], dtype=uint8)"
      ]
     },
     "execution_count": 9,
     "metadata": {},
     "output_type": "execute_result"
    }
   ],
   "source": [
    "im"
   ]
  },
  {
   "cell_type": "code",
   "execution_count": null,
   "metadata": {
    "collapsed": true
   },
   "outputs": [],
   "source": []
  }
 ],
 "metadata": {
  "kernelspec": {
   "display_name": "Python 2",
   "language": "python",
   "name": "python2"
  },
  "language_info": {
   "codemirror_mode": {
    "name": "ipython",
    "version": 2
   },
   "file_extension": ".py",
   "mimetype": "text/x-python",
   "name": "python",
   "nbconvert_exporter": "python",
   "pygments_lexer": "ipython2",
   "version": "2.7.11"
  }
 },
 "nbformat": 4,
 "nbformat_minor": 0
}
